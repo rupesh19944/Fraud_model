{
 "cells": [
  {
   "cell_type": "code",
   "execution_count": 1,
   "id": "3b08c7c2",
   "metadata": {},
   "outputs": [],
   "source": [
    "import papermill as pm"
   ]
  },
  {
   "cell_type": "code",
   "execution_count": 3,
   "id": "77c1c41a",
   "metadata": {},
   "outputs": [
    {
     "data": {
      "application/vnd.jupyter.widget-view+json": {
       "model_id": "db22b5f271224868840c2bd448b9af74",
       "version_major": 2,
       "version_minor": 0
      },
      "text/plain": [
       "Executing:   0%|          | 0/21 [00:00<?, ?cell/s]"
      ]
     },
     "metadata": {},
     "output_type": "display_data"
    }
   ],
   "source": [
    "res = pm.execute_notebook(\n",
    "    'C:\\\\Users\\\\RUPESH\\\\Desktop\\\\Datascience_new\\\\My_code\\\\Fraud_Model\\\\Fraud_model_exec.ipynb',\n",
    "    'C:\\\\Users\\\\RUPESH\\\\Desktop\\\\Datascience_new\\\\My_code\\\\Fraud_Model\\\\Fraud_model_Mlflow_sampling.ipynb',\n",
    "     parameters = {'n_estimators': 200, 'n_estimators1' : 150}\n",
    ")"
   ]
  },
  {
   "cell_type": "code",
   "execution_count": null,
   "id": "aab498c0",
   "metadata": {},
   "outputs": [],
   "source": []
  }
 ],
 "metadata": {
  "kernelspec": {
   "display_name": "Python 3 (ipykernel)",
   "language": "python",
   "name": "python3"
  },
  "language_info": {
   "codemirror_mode": {
    "name": "ipython",
    "version": 3
   },
   "file_extension": ".py",
   "mimetype": "text/x-python",
   "name": "python",
   "nbconvert_exporter": "python",
   "pygments_lexer": "ipython3",
   "version": "3.7.3"
  }
 },
 "nbformat": 4,
 "nbformat_minor": 5
}
