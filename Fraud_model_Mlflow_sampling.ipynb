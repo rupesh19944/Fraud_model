{
 "cells": [
  {
   "cell_type": "code",
   "execution_count": 1,
   "id": "3b410957",
   "metadata": {
    "execution": {
     "iopub.execute_input": "2022-03-04T17:15:15.031079Z",
     "iopub.status.busy": "2022-03-04T17:15:15.027089Z",
     "iopub.status.idle": "2022-03-04T17:15:15.123726Z",
     "shell.execute_reply": "2022-03-04T17:15:15.123726Z"
    },
    "papermill": {
     "duration": 0.109565,
     "end_time": "2022-03-04T17:15:15.123726",
     "exception": false,
     "start_time": "2022-03-04T17:15:15.014161",
     "status": "completed"
    },
    "tags": []
   },
   "outputs": [],
   "source": [
    "import os\n",
    "os.environ[\"GIT_PYTHON_REFRESH\"] = \"quiet\"\n",
    "import git\n",
    "import pickle"
   ]
  },
  {
   "cell_type": "code",
   "execution_count": 2,
   "id": "8c672df4",
   "metadata": {
    "execution": {
     "iopub.execute_input": "2022-03-04T17:15:15.156502Z",
     "iopub.status.busy": "2022-03-04T17:15:15.155508Z",
     "iopub.status.idle": "2022-03-04T17:15:15.172912Z",
     "shell.execute_reply": "2022-03-04T17:15:15.172912Z"
    },
    "papermill": {
     "duration": 0.03533,
     "end_time": "2022-03-04T17:15:15.172912",
     "exception": false,
     "start_time": "2022-03-04T17:15:15.137582",
     "status": "completed"
    },
    "tags": [
     "parameters"
    ]
   },
   "outputs": [],
   "source": [
    "n_estimators = 50\n",
    "n_estimators1 = 50"
   ]
  },
  {
   "cell_type": "code",
   "execution_count": 3,
   "id": "4d9a35b7",
   "metadata": {
    "execution": {
     "iopub.execute_input": "2022-03-04T17:15:15.197887Z",
     "iopub.status.busy": "2022-03-04T17:15:15.196875Z",
     "iopub.status.idle": "2022-03-04T17:15:15.203846Z",
     "shell.execute_reply": "2022-03-04T17:15:15.202838Z"
    },
    "papermill": {
     "duration": 0.021957,
     "end_time": "2022-03-04T17:15:15.203846",
     "exception": false,
     "start_time": "2022-03-04T17:15:15.181889",
     "status": "completed"
    },
    "tags": [
     "injected-parameters"
    ]
   },
   "outputs": [],
   "source": [
    "# Parameters\n",
    "n_estimators = 200\n",
    "n_estimators1 = 150\n"
   ]
  },
  {
   "cell_type": "code",
   "execution_count": 4,
   "id": "715c1ceb",
   "metadata": {
    "execution": {
     "iopub.execute_input": "2022-03-04T17:15:15.244723Z",
     "iopub.status.busy": "2022-03-04T17:15:15.243723Z",
     "iopub.status.idle": "2022-03-04T17:15:18.056318Z",
     "shell.execute_reply": "2022-03-04T17:15:18.056318Z"
    },
    "papermill": {
     "duration": 2.833538,
     "end_time": "2022-03-04T17:15:18.056318",
     "exception": false,
     "start_time": "2022-03-04T17:15:15.222780",
     "status": "completed"
    },
    "tags": []
   },
   "outputs": [],
   "source": [
    "# Necessary imports for this notebook\n",
    "import os\n",
    "\n",
    "import numpy as np\n",
    "import pandas as pd\n",
    "\n",
    "import datetime\n",
    "import time\n",
    "\n",
    "import random\n",
    "\n",
    "# For plotting\n",
    "%matplotlib inline\n",
    "\n",
    "import matplotlib.pyplot as plt\n",
    "import seaborn as sns\n",
    "\n",
    "sns.set_style('darkgrid', {'axes.facecolor': '0.9'})\n",
    "\n",
    "import mlflow\n",
    "import logging\n",
    "import xgboost as xgb\n",
    "from sklearn.model_selection import train_test_split\n",
    "from sklearn.ensemble import RandomForestClassifier\n",
    "from sklearn.metrics import roc_curve, roc_auc_score, confusion_matrix, classification_report\n",
    "from imblearn.over_sampling import SMOTE\n"
   ]
  },
  {
   "cell_type": "code",
   "execution_count": 5,
   "id": "d9c08264",
   "metadata": {
    "execution": {
     "iopub.execute_input": "2022-03-04T17:15:18.071901Z",
     "iopub.status.busy": "2022-03-04T17:15:18.071901Z",
     "iopub.status.idle": "2022-03-04T17:15:18.087490Z",
     "shell.execute_reply": "2022-03-04T17:15:18.087490Z"
    },
    "papermill": {
     "duration": 0.031172,
     "end_time": "2022-03-04T17:15:18.087490",
     "exception": false,
     "start_time": "2022-03-04T17:15:18.056318",
     "status": "completed"
    },
    "tags": []
   },
   "outputs": [],
   "source": [
    "# Reading the file\n",
    "\n",
    "# Load a set of pickle files, put them together in a single DataFrame, and order them by time\n",
    "# It takes as input the folder DIR_INPUT where the files are stored, and the BEGIN_DATE and END_DATE\n",
    "def read_from_files(DIR_INPUT, BEGIN_DATE, END_DATE):\n",
    "    \n",
    "    files = [os.path.join(DIR_INPUT, f) for f in os.listdir(DIR_INPUT) if f>=BEGIN_DATE+'.pkl' and f<=END_DATE+'.pkl']\n",
    "\n",
    "    frames = []\n",
    "    for f in files:\n",
    "        df = pd.read_pickle(f)\n",
    "        frames.append(df)\n",
    "        del df\n",
    "    df_final = pd.concat(frames)\n",
    "    \n",
    "    df_final=df_final.sort_values('TRANSACTION_ID')\n",
    "    df_final.reset_index(drop=True,inplace=True)\n",
    "    #  Note: -1 are missing values for real world data \n",
    "    df_final=df_final.replace([-1],0)\n",
    "    \n",
    "    return df_final"
   ]
  },
  {
   "cell_type": "code",
   "execution_count": 6,
   "id": "7b7fac70",
   "metadata": {
    "execution": {
     "iopub.execute_input": "2022-03-04T17:15:18.103158Z",
     "iopub.status.busy": "2022-03-04T17:15:18.103158Z",
     "iopub.status.idle": "2022-03-04T17:15:19.439891Z",
     "shell.execute_reply": "2022-03-04T17:15:19.439891Z"
    },
    "papermill": {
     "duration": 1.352401,
     "end_time": "2022-03-04T17:15:19.439891",
     "exception": false,
     "start_time": "2022-03-04T17:15:18.087490",
     "status": "completed"
    },
    "tags": []
   },
   "outputs": [
    {
     "name": "stdout",
     "output_type": "stream",
     "text": [
      "Load  files\n"
     ]
    },
    {
     "name": "stdout",
     "output_type": "stream",
     "text": [
      "Wall time: 1.29 s\n",
      "<class 'pandas.core.frame.DataFrame'>\n",
      "RangeIndex: 594735 entries, 0 to 594734\n",
      "Data columns (total 9 columns):\n",
      " #   Column             Non-Null Count   Dtype         \n",
      "---  ------             --------------   -----         \n",
      " 0   TRANSACTION_ID     594735 non-null  int64         \n",
      " 1   TX_DATETIME        594735 non-null  datetime64[ns]\n",
      " 2   CUSTOMER_ID        594735 non-null  int64         \n",
      " 3   TERMINAL_ID        594735 non-null  int64         \n",
      " 4   TX_AMOUNT          594735 non-null  float64       \n",
      " 5   TX_TIME_SECONDS    594735 non-null  int64         \n",
      " 6   TX_TIME_DAYS       594735 non-null  int64         \n",
      " 7   TX_FRAUD           594735 non-null  int64         \n",
      " 8   TX_FRAUD_SCENARIO  594735 non-null  int64         \n",
      "dtypes: datetime64[ns](1), float64(1), int64(7)\n",
      "memory usage: 40.8 MB\n"
     ]
    },
    {
     "data": {
      "text/plain": [
       "Index(['TRANSACTION_ID', 'TX_DATETIME', 'CUSTOMER_ID', 'TERMINAL_ID',\n",
       "       'TX_AMOUNT', 'TX_TIME_SECONDS', 'TX_TIME_DAYS', 'TX_FRAUD',\n",
       "       'TX_FRAUD_SCENARIO'],\n",
       "      dtype='object')"
      ]
     },
     "execution_count": 6,
     "metadata": {},
     "output_type": "execute_result"
    }
   ],
   "source": [
    "DIR_INPUT='C:/Users/RUPESH/Desktop/Datascience_new/My_code/Fraud_Model' \n",
    "# Loading 2 month data\n",
    "BEGIN_DATE = \"2018-04-01\"\n",
    "END_DATE = \"2018-06-01\"\n",
    "\n",
    "print(\"Load  files\")\n",
    "%time transactions_df=read_from_files(DIR_INPUT, BEGIN_DATE, END_DATE)\n",
    "\n",
    "transactions_df.head()\n",
    "\n",
    "transactions_df.shape\n",
    "\n",
    "transactions_df.info()\n",
    "\n",
    "transactions_df.TX_FRAUD_SCENARIO.nunique()\n",
    "\n",
    "transactions_df.TX_TIME_DAYS.unique()\n",
    "\n",
    "transactions_df.columns"
   ]
  },
  {
   "cell_type": "code",
   "execution_count": 7,
   "id": "500a1962",
   "metadata": {
    "execution": {
     "iopub.execute_input": "2022-03-04T17:15:19.516943Z",
     "iopub.status.busy": "2022-03-04T17:15:19.472023Z",
     "iopub.status.idle": "2022-03-04T17:15:21.426801Z",
     "shell.execute_reply": "2022-03-04T17:15:21.426801Z"
    },
    "papermill": {
     "duration": 1.98691,
     "end_time": "2022-03-04T17:15:21.426801",
     "exception": false,
     "start_time": "2022-03-04T17:15:19.439891",
     "status": "completed"
    },
    "tags": []
   },
   "outputs": [
    {
     "name": "stdout",
     "output_type": "stream",
     "text": [
      "Wall time: 1.93 s\n"
     ]
    },
    {
     "data": {
      "text/html": [
       "<div>\n",
       "<style scoped>\n",
       "    .dataframe tbody tr th:only-of-type {\n",
       "        vertical-align: middle;\n",
       "    }\n",
       "\n",
       "    .dataframe tbody tr th {\n",
       "        vertical-align: top;\n",
       "    }\n",
       "\n",
       "    .dataframe thead th {\n",
       "        text-align: right;\n",
       "    }\n",
       "</style>\n",
       "<table border=\"1\" class=\"dataframe\">\n",
       "  <thead>\n",
       "    <tr style=\"text-align: right;\">\n",
       "      <th></th>\n",
       "      <th>TRANSACTION_ID</th>\n",
       "      <th>TX_DATETIME</th>\n",
       "      <th>CUSTOMER_ID</th>\n",
       "      <th>TERMINAL_ID</th>\n",
       "      <th>TX_AMOUNT</th>\n",
       "      <th>TX_TIME_SECONDS</th>\n",
       "      <th>TX_TIME_DAYS</th>\n",
       "      <th>TX_FRAUD</th>\n",
       "      <th>TX_FRAUD_SCENARIO</th>\n",
       "      <th>TX_DURING_WEEKEND</th>\n",
       "    </tr>\n",
       "  </thead>\n",
       "  <tbody>\n",
       "    <tr>\n",
       "      <th>0</th>\n",
       "      <td>0</td>\n",
       "      <td>2018-04-01 00:00:31</td>\n",
       "      <td>596</td>\n",
       "      <td>3156</td>\n",
       "      <td>57.16</td>\n",
       "      <td>31</td>\n",
       "      <td>0</td>\n",
       "      <td>0</td>\n",
       "      <td>0</td>\n",
       "      <td>6</td>\n",
       "    </tr>\n",
       "    <tr>\n",
       "      <th>1</th>\n",
       "      <td>1</td>\n",
       "      <td>2018-04-01 00:02:10</td>\n",
       "      <td>4961</td>\n",
       "      <td>3412</td>\n",
       "      <td>81.51</td>\n",
       "      <td>130</td>\n",
       "      <td>0</td>\n",
       "      <td>0</td>\n",
       "      <td>0</td>\n",
       "      <td>6</td>\n",
       "    </tr>\n",
       "    <tr>\n",
       "      <th>2</th>\n",
       "      <td>2</td>\n",
       "      <td>2018-04-01 00:07:56</td>\n",
       "      <td>2</td>\n",
       "      <td>1365</td>\n",
       "      <td>146.00</td>\n",
       "      <td>476</td>\n",
       "      <td>0</td>\n",
       "      <td>0</td>\n",
       "      <td>0</td>\n",
       "      <td>6</td>\n",
       "    </tr>\n",
       "    <tr>\n",
       "      <th>3</th>\n",
       "      <td>3</td>\n",
       "      <td>2018-04-01 00:09:29</td>\n",
       "      <td>4128</td>\n",
       "      <td>8737</td>\n",
       "      <td>64.49</td>\n",
       "      <td>569</td>\n",
       "      <td>0</td>\n",
       "      <td>0</td>\n",
       "      <td>0</td>\n",
       "      <td>6</td>\n",
       "    </tr>\n",
       "    <tr>\n",
       "      <th>4</th>\n",
       "      <td>4</td>\n",
       "      <td>2018-04-01 00:10:34</td>\n",
       "      <td>927</td>\n",
       "      <td>9906</td>\n",
       "      <td>50.99</td>\n",
       "      <td>634</td>\n",
       "      <td>0</td>\n",
       "      <td>0</td>\n",
       "      <td>0</td>\n",
       "      <td>6</td>\n",
       "    </tr>\n",
       "  </tbody>\n",
       "</table>\n",
       "</div>"
      ],
      "text/plain": [
       "   TRANSACTION_ID         TX_DATETIME  CUSTOMER_ID  TERMINAL_ID  TX_AMOUNT  \\\n",
       "0               0 2018-04-01 00:00:31          596         3156      57.16   \n",
       "1               1 2018-04-01 00:02:10         4961         3412      81.51   \n",
       "2               2 2018-04-01 00:07:56            2         1365     146.00   \n",
       "3               3 2018-04-01 00:09:29         4128         8737      64.49   \n",
       "4               4 2018-04-01 00:10:34          927         9906      50.99   \n",
       "\n",
       "   TX_TIME_SECONDS  TX_TIME_DAYS  TX_FRAUD  TX_FRAUD_SCENARIO  \\\n",
       "0               31             0         0                  0   \n",
       "1              130             0         0                  0   \n",
       "2              476             0         0                  0   \n",
       "3              569             0         0                  0   \n",
       "4              634             0         0                  0   \n",
       "\n",
       "   TX_DURING_WEEKEND  \n",
       "0                  6  \n",
       "1                  6  \n",
       "2                  6  \n",
       "3                  6  \n",
       "4                  6  "
      ]
     },
     "execution_count": 7,
     "metadata": {},
     "output_type": "execute_result"
    }
   ],
   "source": [
    "#### creating weekend feature by date time feature\n",
    "\n",
    "from datetime import datetime\n",
    "%time transactions_df['TX_DURING_WEEKEND'] = transactions_df['TX_DATETIME'].apply(lambda x : x.weekday())\n",
    "\n",
    "transactions_df.head()"
   ]
  },
  {
   "cell_type": "code",
   "execution_count": 8,
   "id": "d4e8463d",
   "metadata": {
    "execution": {
     "iopub.execute_input": "2022-03-04T17:15:21.529945Z",
     "iopub.status.busy": "2022-03-04T17:15:21.529945Z",
     "iopub.status.idle": "2022-03-04T17:15:23.576310Z",
     "shell.execute_reply": "2022-03-04T17:15:23.576310Z"
    },
    "papermill": {
     "duration": 2.149509,
     "end_time": "2022-03-04T17:15:23.576310",
     "exception": false,
     "start_time": "2022-03-04T17:15:21.426801",
     "status": "completed"
    },
    "tags": []
   },
   "outputs": [
    {
     "name": "stdout",
     "output_type": "stream",
     "text": [
      "Wall time: 2 s\n"
     ]
    },
    {
     "data": {
      "text/html": [
       "<div>\n",
       "<style scoped>\n",
       "    .dataframe tbody tr th:only-of-type {\n",
       "        vertical-align: middle;\n",
       "    }\n",
       "\n",
       "    .dataframe tbody tr th {\n",
       "        vertical-align: top;\n",
       "    }\n",
       "\n",
       "    .dataframe thead th {\n",
       "        text-align: right;\n",
       "    }\n",
       "</style>\n",
       "<table border=\"1\" class=\"dataframe\">\n",
       "  <thead>\n",
       "    <tr style=\"text-align: right;\">\n",
       "      <th></th>\n",
       "      <th>TRANSACTION_ID</th>\n",
       "      <th>CUSTOMER_ID</th>\n",
       "      <th>TERMINAL_ID</th>\n",
       "      <th>TX_AMOUNT</th>\n",
       "      <th>TX_TIME_SECONDS</th>\n",
       "      <th>TX_TIME_DAYS</th>\n",
       "      <th>TX_FRAUD</th>\n",
       "      <th>TX_FRAUD_SCENARIO</th>\n",
       "      <th>TX_DURING_WEEKEND</th>\n",
       "      <th>TX_DURING_NIGHT</th>\n",
       "    </tr>\n",
       "    <tr>\n",
       "      <th>TX_DATETIME</th>\n",
       "      <th></th>\n",
       "      <th></th>\n",
       "      <th></th>\n",
       "      <th></th>\n",
       "      <th></th>\n",
       "      <th></th>\n",
       "      <th></th>\n",
       "      <th></th>\n",
       "      <th></th>\n",
       "      <th></th>\n",
       "    </tr>\n",
       "  </thead>\n",
       "  <tbody>\n",
       "    <tr>\n",
       "      <th>2018-04-01 00:00:31</th>\n",
       "      <td>0</td>\n",
       "      <td>596</td>\n",
       "      <td>3156</td>\n",
       "      <td>57.16</td>\n",
       "      <td>31</td>\n",
       "      <td>0</td>\n",
       "      <td>0</td>\n",
       "      <td>0</td>\n",
       "      <td>6</td>\n",
       "      <td>1</td>\n",
       "    </tr>\n",
       "    <tr>\n",
       "      <th>2018-04-01 00:02:10</th>\n",
       "      <td>1</td>\n",
       "      <td>4961</td>\n",
       "      <td>3412</td>\n",
       "      <td>81.51</td>\n",
       "      <td>130</td>\n",
       "      <td>0</td>\n",
       "      <td>0</td>\n",
       "      <td>0</td>\n",
       "      <td>6</td>\n",
       "      <td>1</td>\n",
       "    </tr>\n",
       "    <tr>\n",
       "      <th>2018-04-01 00:07:56</th>\n",
       "      <td>2</td>\n",
       "      <td>2</td>\n",
       "      <td>1365</td>\n",
       "      <td>146.00</td>\n",
       "      <td>476</td>\n",
       "      <td>0</td>\n",
       "      <td>0</td>\n",
       "      <td>0</td>\n",
       "      <td>6</td>\n",
       "      <td>1</td>\n",
       "    </tr>\n",
       "    <tr>\n",
       "      <th>2018-04-01 00:09:29</th>\n",
       "      <td>3</td>\n",
       "      <td>4128</td>\n",
       "      <td>8737</td>\n",
       "      <td>64.49</td>\n",
       "      <td>569</td>\n",
       "      <td>0</td>\n",
       "      <td>0</td>\n",
       "      <td>0</td>\n",
       "      <td>6</td>\n",
       "      <td>1</td>\n",
       "    </tr>\n",
       "    <tr>\n",
       "      <th>2018-04-01 00:10:34</th>\n",
       "      <td>4</td>\n",
       "      <td>927</td>\n",
       "      <td>9906</td>\n",
       "      <td>50.99</td>\n",
       "      <td>634</td>\n",
       "      <td>0</td>\n",
       "      <td>0</td>\n",
       "      <td>0</td>\n",
       "      <td>6</td>\n",
       "      <td>1</td>\n",
       "    </tr>\n",
       "  </tbody>\n",
       "</table>\n",
       "</div>"
      ],
      "text/plain": [
       "                     TRANSACTION_ID  CUSTOMER_ID  TERMINAL_ID  TX_AMOUNT  \\\n",
       "TX_DATETIME                                                                \n",
       "2018-04-01 00:00:31               0          596         3156      57.16   \n",
       "2018-04-01 00:02:10               1         4961         3412      81.51   \n",
       "2018-04-01 00:07:56               2            2         1365     146.00   \n",
       "2018-04-01 00:09:29               3         4128         8737      64.49   \n",
       "2018-04-01 00:10:34               4          927         9906      50.99   \n",
       "\n",
       "                     TX_TIME_SECONDS  TX_TIME_DAYS  TX_FRAUD  \\\n",
       "TX_DATETIME                                                    \n",
       "2018-04-01 00:00:31               31             0         0   \n",
       "2018-04-01 00:02:10              130             0         0   \n",
       "2018-04-01 00:07:56              476             0         0   \n",
       "2018-04-01 00:09:29              569             0         0   \n",
       "2018-04-01 00:10:34              634             0         0   \n",
       "\n",
       "                     TX_FRAUD_SCENARIO  TX_DURING_WEEKEND  TX_DURING_NIGHT  \n",
       "TX_DATETIME                                                                 \n",
       "2018-04-01 00:00:31                  0                  6                1  \n",
       "2018-04-01 00:02:10                  0                  6                1  \n",
       "2018-04-01 00:07:56                  0                  6                1  \n",
       "2018-04-01 00:09:29                  0                  6                1  \n",
       "2018-04-01 00:10:34                  0                  6                1  "
      ]
     },
     "execution_count": 8,
     "metadata": {},
     "output_type": "execute_result"
    }
   ],
   "source": [
    "#### creating night or day feature with date time time feature\n",
    "\n",
    "%time transactions_df['TX_DURING_NIGHT'] = transactions_df.TX_DATETIME.apply(lambda X : 1 if(X.hour >= 18 or X.hour <= 6)else 0)\n",
    "\n",
    "transactions_df.head()\n",
    "\n",
    "transactions_df.shape\n",
    "\n",
    "transactions_df.CUSTOMER_ID.nunique()\n",
    "\n",
    "\n",
    "transactions_df = transactions_df.set_index('TX_DATETIME').sort_values('TX_DATETIME')\n",
    "\n",
    "transactions_df.head()"
   ]
  },
  {
   "cell_type": "code",
   "execution_count": 9,
   "id": "a7e8b3fa",
   "metadata": {
    "execution": {
     "iopub.execute_input": "2022-03-04T17:15:23.610590Z",
     "iopub.status.busy": "2022-03-04T17:15:23.610590Z",
     "iopub.status.idle": "2022-03-04T17:15:33.803388Z",
     "shell.execute_reply": "2022-03-04T17:15:33.803388Z"
    },
    "papermill": {
     "duration": 10.227078,
     "end_time": "2022-03-04T17:15:33.803388",
     "exception": false,
     "start_time": "2022-03-04T17:15:23.576310",
     "status": "completed"
    },
    "tags": []
   },
   "outputs": [
    {
     "name": "stdout",
     "output_type": "stream",
     "text": [
      "Wall time: 10.2 s\n"
     ]
    }
   ],
   "source": [
    "#### average money spent by each customer in 30 day \n",
    "\n",
    "def get_customer_spending_behaviour_features(customer_transactions):\n",
    "        \n",
    "    # Compute the sum of the transaction amounts and the number of transactions for 30 day\n",
    "    SUM_AMOUNT_TX_WINDOW=customer_transactions['TX_AMOUNT'].rolling(str(30)+'d').sum()\n",
    "    NB_TX_WINDOW=customer_transactions['TX_AMOUNT'].rolling(str(30)+'d').count()\n",
    "\n",
    "    # Compute the average transaction amount for the given window size\n",
    "    # NB_TX_WINDOW is always >0 since current transaction is always included\n",
    "    AVG_AMOUNT_TX_WINDOW=SUM_AMOUNT_TX_WINDOW/NB_TX_WINDOW\n",
    "\n",
    "    # Save feature values\n",
    "    customer_transactions['CUSTOMER_ID_NB_TX_'+str(30)+'DAY_WINDOW']=list(NB_TX_WINDOW)\n",
    "    customer_transactions['CUSTOMER_ID_AVG_AMOUNT_'+str(30)+'DAY_WINDOW']=list(AVG_AMOUNT_TX_WINDOW)\n",
    "    \n",
    "        \n",
    "    # And return the dataframe with the new features\n",
    "    return customer_transactions\n",
    "\n",
    "%time transactions_df=transactions_df.groupby('CUSTOMER_ID').apply(lambda x: get_customer_spending_behaviour_features(x))\n"
   ]
  },
  {
   "cell_type": "code",
   "execution_count": 10,
   "id": "f01a69e3",
   "metadata": {
    "execution": {
     "iopub.execute_input": "2022-03-04T17:15:33.834601Z",
     "iopub.status.busy": "2022-03-04T17:15:33.833563Z",
     "iopub.status.idle": "2022-03-04T17:15:33.836589Z",
     "shell.execute_reply": "2022-03-04T17:15:33.835585Z"
    },
    "papermill": {
     "duration": 0.033201,
     "end_time": "2022-03-04T17:15:33.836589",
     "exception": false,
     "start_time": "2022-03-04T17:15:33.803388",
     "status": "completed"
    },
    "tags": []
   },
   "outputs": [],
   "source": [
    "#####Calculating risk score average number of fraudulent transactions that occurred on a terminal ID over 30 days before delay of 7 day"
   ]
  },
  {
   "cell_type": "code",
   "execution_count": 11,
   "id": "9526fc01",
   "metadata": {
    "execution": {
     "iopub.execute_input": "2022-03-04T17:15:33.867472Z",
     "iopub.status.busy": "2022-03-04T17:15:33.867472Z",
     "iopub.status.idle": "2022-03-04T17:16:00.336467Z",
     "shell.execute_reply": "2022-03-04T17:16:00.336467Z"
    },
    "papermill": {
     "duration": 26.488902,
     "end_time": "2022-03-04T17:16:00.336467",
     "exception": false,
     "start_time": "2022-03-04T17:15:33.847565",
     "status": "completed"
    },
    "tags": []
   },
   "outputs": [
    {
     "name": "stdout",
     "output_type": "stream",
     "text": [
      "Wall time: 26.5 s\n"
     ]
    }
   ],
   "source": [
    "def get_count_risk_rolling_window(terminal_transactions, delay_period=7, feature=\"TERMINAL_ID\"):\n",
    "    \n",
    "    \n",
    "    NB_FRAUD_DELAY=terminal_transactions['TX_FRAUD'].rolling(str(delay_period)+'d').sum()\n",
    "    NB_TX_DELAY=terminal_transactions['TX_FRAUD'].rolling(str(delay_period)+'d').count()\n",
    "    \n",
    "    \n",
    "    NB_FRAUD_DELAY_WINDOW=terminal_transactions['TX_FRAUD'].rolling(str(delay_period + 30)+'d').sum()\n",
    "    NB_TX_DELAY_WINDOW=terminal_transactions['TX_FRAUD'].rolling(str(delay_period + 30)+'d').count()\n",
    "\n",
    "    NB_FRAUD_WINDOW=NB_FRAUD_DELAY_WINDOW-NB_FRAUD_DELAY\n",
    "    NB_TX_WINDOW=NB_TX_DELAY_WINDOW-NB_TX_DELAY\n",
    "\n",
    "    RISK_WINDOW=NB_FRAUD_WINDOW/NB_TX_WINDOW\n",
    "\n",
    "    terminal_transactions[feature+'_NB_TX_'+str(30)+'DAY_WINDOW']=list(NB_TX_WINDOW)\n",
    "    terminal_transactions[feature+'_RISK_'+str(30)+'DAY_WINDOW']=list(RISK_WINDOW)\n",
    "        \n",
    "    \n",
    "    # Replace NA values with 0 (all undefined risk scores where NB_TX_WINDOW is 0) \n",
    "    terminal_transactions.fillna(0,inplace=True)\n",
    "    \n",
    "    return terminal_transactions\n",
    "\n",
    "%time transactions_df=transactions_df.groupby('TERMINAL_ID').apply(lambda x: get_count_risk_rolling_window(x, delay_period=7, feature=\"TERMINAL_ID\"))\n"
   ]
  },
  {
   "cell_type": "code",
   "execution_count": 12,
   "id": "529ae85c",
   "metadata": {
    "execution": {
     "iopub.execute_input": "2022-03-04T17:16:00.369983Z",
     "iopub.status.busy": "2022-03-04T17:16:00.368986Z",
     "iopub.status.idle": "2022-03-04T17:16:00.424615Z",
     "shell.execute_reply": "2022-03-04T17:16:00.424615Z"
    },
    "papermill": {
     "duration": 0.088148,
     "end_time": "2022-03-04T17:16:00.424615",
     "exception": false,
     "start_time": "2022-03-04T17:16:00.336467",
     "status": "completed"
    },
    "tags": []
   },
   "outputs": [
    {
     "name": "stdout",
     "output_type": "stream",
     "text": [
      "          TX_DATETIME  TRANSACTION_ID  CUSTOMER_ID  TERMINAL_ID  TX_AMOUNT  \\\n",
      "0 2018-04-01 00:00:31               0          596         3156      57.16   \n",
      "1 2018-04-01 00:02:10               1         4961         3412      81.51   \n",
      "2 2018-04-01 00:07:56               2            2         1365     146.00   \n",
      "3 2018-04-01 00:09:29               3         4128         8737      64.49   \n",
      "4 2018-04-01 00:10:34               4          927         9906      50.99   \n",
      "\n",
      "   TX_TIME_SECONDS  TX_TIME_DAYS  TX_FRAUD  TX_FRAUD_SCENARIO  \\\n",
      "0               31             0         0                  0   \n",
      "1              130             0         0                  0   \n",
      "2              476             0         0                  0   \n",
      "3              569             0         0                  0   \n",
      "4              634             0         0                  0   \n",
      "\n",
      "   TX_DURING_WEEKEND  TX_DURING_NIGHT  CUSTOMER_ID_NB_TX_30DAY_WINDOW  \\\n",
      "0                  6                1                             1.0   \n",
      "1                  6                1                             1.0   \n",
      "2                  6                1                             1.0   \n",
      "3                  6                1                             1.0   \n",
      "4                  6                1                             1.0   \n",
      "\n",
      "   CUSTOMER_ID_AVG_AMOUNT_30DAY_WINDOW  TERMINAL_ID_NB_TX_30DAY_WINDOW  \\\n",
      "0                                57.16                             0.0   \n",
      "1                                81.51                             0.0   \n",
      "2                               146.00                             0.0   \n",
      "3                                64.49                             0.0   \n",
      "4                                50.99                             0.0   \n",
      "\n",
      "   TERMINAL_ID_RISK_30DAY_WINDOW  \n",
      "0                            0.0  \n",
      "1                            0.0  \n",
      "2                            0.0  \n",
      "3                            0.0  \n",
      "4                            0.0  \n"
     ]
    },
    {
     "data": {
      "text/plain": [
       "TX_DATETIME                            0\n",
       "TRANSACTION_ID                         0\n",
       "CUSTOMER_ID                            0\n",
       "TERMINAL_ID                            0\n",
       "TX_AMOUNT                              0\n",
       "TX_TIME_SECONDS                        0\n",
       "TX_TIME_DAYS                           0\n",
       "TX_FRAUD                               0\n",
       "TX_FRAUD_SCENARIO                      0\n",
       "TX_DURING_WEEKEND                      0\n",
       "TX_DURING_NIGHT                        0\n",
       "CUSTOMER_ID_NB_TX_30DAY_WINDOW         0\n",
       "CUSTOMER_ID_AVG_AMOUNT_30DAY_WINDOW    0\n",
       "TERMINAL_ID_NB_TX_30DAY_WINDOW         0\n",
       "TERMINAL_ID_RISK_30DAY_WINDOW          0\n",
       "dtype: int64"
      ]
     },
     "execution_count": 12,
     "metadata": {},
     "output_type": "execute_result"
    }
   ],
   "source": [
    "transactions_df.tail()\n",
    "\n",
    "transactions_df=transactions_df.reset_index()\n",
    "\n",
    "print(transactions_df.head())\n",
    "\n",
    "transactions_df.isnull().sum()"
   ]
  },
  {
   "cell_type": "code",
   "execution_count": 13,
   "id": "a2c6f865",
   "metadata": {
    "execution": {
     "iopub.execute_input": "2022-03-04T17:16:00.471443Z",
     "iopub.status.busy": "2022-03-04T17:16:00.471443Z",
     "iopub.status.idle": "2022-03-04T17:16:00.487392Z",
     "shell.execute_reply": "2022-03-04T17:16:00.487392Z"
    },
    "papermill": {
     "duration": 0.062777,
     "end_time": "2022-03-04T17:16:00.487392",
     "exception": false,
     "start_time": "2022-03-04T17:16:00.424615",
     "status": "completed"
    },
    "tags": []
   },
   "outputs": [
    {
     "name": "stdout",
     "output_type": "stream",
     "text": [
      "0    590326\n",
      "1      4409\n",
      "Name: TX_FRAUD, dtype: int64\n"
     ]
    }
   ],
   "source": [
    "print(transactions_df.TX_FRAUD.value_counts())\n",
    "\n",
    "#### highly inbalance data\n",
    "\n",
    "transactions_df.columns\n",
    "\n",
    "output_feature=\"TX_FRAUD\"\n",
    "\n",
    "input_features=['TX_AMOUNT','TX_DURING_WEEKEND', 'TX_DURING_NIGHT', 'CUSTOMER_ID_NB_TX_30DAY_WINDOW',\n",
    "       'CUSTOMER_ID_AVG_AMOUNT_30DAY_WINDOW', 'TERMINAL_ID_NB_TX_30DAY_WINDOW',\n",
    "       'TERMINAL_ID_RISK_30DAY_WINDOW']\n",
    "\n",
    "y=transactions_df['TX_FRAUD']\n",
    "x=transactions_df[input_features]"
   ]
  },
  {
   "cell_type": "code",
   "execution_count": 14,
   "id": "efe9cb06",
   "metadata": {
    "execution": {
     "iopub.execute_input": "2022-03-04T17:16:00.522935Z",
     "iopub.status.busy": "2022-03-04T17:16:00.521938Z",
     "iopub.status.idle": "2022-03-04T17:16:00.966779Z",
     "shell.execute_reply": "2022-03-04T17:16:00.966779Z"
    },
    "papermill": {
     "duration": 0.4641,
     "end_time": "2022-03-04T17:16:00.966779",
     "exception": false,
     "start_time": "2022-03-04T17:16:00.502679",
     "status": "completed"
    },
    "tags": []
   },
   "outputs": [],
   "source": [
    "X_train, X_test, y_train, y_test = train_test_split(x, y, test_size=0.20, random_state=0, stratify=y)\n",
    "\n",
    "# over sampling with SMOTE\n",
    "smote = SMOTE()\n",
    "X_train_smote, y_train_smote = smote.fit_resample(X_train.astype('float'), y_train)"
   ]
  },
  {
   "cell_type": "code",
   "execution_count": 15,
   "id": "3df1f018",
   "metadata": {
    "execution": {
     "iopub.execute_input": "2022-03-04T17:16:01.053132Z",
     "iopub.status.busy": "2022-03-04T17:16:01.053132Z",
     "iopub.status.idle": "2022-03-04T17:16:01.167859Z",
     "shell.execute_reply": "2022-03-04T17:16:01.167859Z"
    },
    "papermill": {
     "duration": 0.185774,
     "end_time": "2022-03-04T17:16:01.167859",
     "exception": false,
     "start_time": "2022-03-04T17:16:00.982085",
     "status": "completed"
    },
    "tags": []
   },
   "outputs": [
    {
     "name": "stdout",
     "output_type": "stream",
     "text": [
      "Before SMOTE: Counter({0: 472261, 1: 3527})\n",
      "After SMOTE: Counter({0: 472261, 1: 472261})\n"
     ]
    }
   ],
   "source": [
    "from collections import Counter\n",
    "print('Before SMOTE:' , Counter(y_train))\n",
    "print('After SMOTE:' , Counter(y_train_smote))"
   ]
  },
  {
   "cell_type": "code",
   "execution_count": 16,
   "id": "73f39e41",
   "metadata": {
    "execution": {
     "iopub.execute_input": "2022-03-04T17:16:01.208501Z",
     "iopub.status.busy": "2022-03-04T17:16:01.207503Z",
     "iopub.status.idle": "2022-03-04T17:24:28.069714Z",
     "shell.execute_reply": "2022-03-04T17:24:28.070690Z"
    },
    "papermill": {
     "duration": 506.887496,
     "end_time": "2022-03-04T17:24:28.070690",
     "exception": false,
     "start_time": "2022-03-04T17:16:01.183194",
     "status": "completed"
    },
    "tags": []
   },
   "outputs": [
    {
     "name": "stdout",
     "output_type": "stream",
     "text": [
      "[[117834    231]\n",
      " [   347    535]]\n",
      "0.8023097071802082\n",
      "(array([0.        , 0.00195655, 1.        ]), array([0.        , 0.60657596, 1.        ]), array([2, 1, 0], dtype=int64))\n",
      "              precision    recall  f1-score   support\n",
      "\n",
      "           0       1.00      1.00      1.00    118065\n",
      "           1       0.70      0.61      0.65       882\n",
      "\n",
      "    accuracy                           1.00    118947\n",
      "   macro avg       0.85      0.80      0.82    118947\n",
      "weighted avg       0.99      1.00      0.99    118947\n",
      "\n"
     ]
    },
    {
     "name": "stderr",
     "output_type": "stream",
     "text": [
      "C:\\ProgramData\\Anaconda3\\lib\\site-packages\\xgboost\\sklearn.py:1224: UserWarning: The use of label encoder in XGBClassifier is deprecated and will be removed in a future release. To remove this warning, do the following: 1) Pass option use_label_encoder=False when constructing XGBClassifier object; and 2) Encode your labels (y) as integers starting with 0, i.e. 0, 1, 2, ..., [num_class - 1].\n",
      "  warnings.warn(label_encoder_deprecation_msg, UserWarning)\n"
     ]
    },
    {
     "name": "stdout",
     "output_type": "stream",
     "text": [
      "[22:52:39] WARNING: C:/Users/Administrator/workspace/xgboost-win64_release_1.5.1/src/learner.cc:1115: Starting in XGBoost 1.3.0, the default evaluation metric used with the objective 'binary:logistic' was changed from 'error' to 'logloss'. Explicitly set eval_metric if you'd like to restore the old behavior.\n"
     ]
    },
    {
     "name": "stdout",
     "output_type": "stream",
     "text": [
      "[[117947    118]\n",
      " [   362    520]]\n",
      "0.7942848557709622\n",
      "(array([0.00000000e+00, 9.99449456e-04, 1.00000000e+00]), array([0.        , 0.58956916, 1.        ]), array([2, 1, 0], dtype=int64))\n",
      "              precision    recall  f1-score   support\n",
      "\n",
      "           0       1.00      1.00      1.00    118065\n",
      "           1       0.82      0.59      0.68       882\n",
      "\n",
      "    accuracy                           1.00    118947\n",
      "   macro avg       0.91      0.79      0.84    118947\n",
      "weighted avg       1.00      1.00      1.00    118947\n",
      "\n"
     ]
    }
   ],
   "source": [
    "with mlflow.start_run():\n",
    "    rf = RandomForestClassifier(n_estimators=n_estimators)\n",
    "    rf.fit(X_train_smote, y_train_smote)\n",
    "    y_pred = rf.predict(X_test)\n",
    "    \n",
    "    #output_path = 'C:/Users/RUPESH/Desktop/Datascience_new/My_code/Fraud_Model'\n",
    "    with open('model_pkl', 'wb') as files:\n",
    "        pickle.dump(rf, files)\n",
    "\n",
    "\n",
    "    print(confusion_matrix(y_test, y_pred))\n",
    "    print(roc_auc_score(y_test, y_pred))\n",
    "    print(roc_curve(y_test, y_pred))\n",
    "    print(classification_report(y_test,y_pred))\n",
    "\n",
    "\n",
    "    xg= xgb.XGBClassifier(n_estimators=n_estimators1)\n",
    "    xg.fit(X_train_smote, y_train_smote)\n",
    "    y_pred1 = xg.predict(X_test)\n",
    "    \n",
    "    with open('model_pkl1', 'wb') as files:\n",
    "        pickle.dump(xg, files)\n",
    "\n",
    "\n",
    "    print(confusion_matrix(y_test, y_pred1))\n",
    "    print(roc_auc_score(y_test, y_pred1))\n",
    "    print(roc_curve(y_test, y_pred1))\n",
    "    print(classification_report(y_test,y_pred1))\n",
    "    recall = confusion_matrix(y_test, y_pred1)[1,1]/(confusion_matrix(y_test, y_pred1)[1,1]+confusion_matrix(y_test, y_pred1)[1,0])\n",
    "    mlflow.log_metric(\"roc_auc_score\", roc_auc_score(y_test, y_pred1))\n",
    "    mlflow.log_metric(\"recall\", recall)"
   ]
  },
  {
   "cell_type": "code",
   "execution_count": 17,
   "id": "72bb1f3f",
   "metadata": {
    "execution": {
     "iopub.execute_input": "2022-03-04T17:24:28.107576Z",
     "iopub.status.busy": "2022-03-04T17:24:28.106553Z",
     "iopub.status.idle": "2022-03-04T17:24:28.537788Z",
     "shell.execute_reply": "2022-03-04T17:24:28.537788Z"
    },
    "papermill": {
     "duration": 0.451182,
     "end_time": "2022-03-04T17:24:28.537788",
     "exception": false,
     "start_time": "2022-03-04T17:24:28.086606",
     "status": "completed"
    },
    "tags": []
   },
   "outputs": [],
   "source": [
    "# loading random forest model and testing \n",
    "with open('model_pkl' , 'rb') as f:\n",
    "    rf = pickle.load(f)"
   ]
  },
  {
   "cell_type": "code",
   "execution_count": 18,
   "id": "1e74e731",
   "metadata": {
    "execution": {
     "iopub.execute_input": "2022-03-04T17:24:28.569028Z",
     "iopub.status.busy": "2022-03-04T17:24:28.569028Z",
     "iopub.status.idle": "2022-03-04T17:24:33.555205Z",
     "shell.execute_reply": "2022-03-04T17:24:33.556203Z"
    },
    "papermill": {
     "duration": 5.002796,
     "end_time": "2022-03-04T17:24:33.556203",
     "exception": false,
     "start_time": "2022-03-04T17:24:28.553407",
     "status": "completed"
    },
    "tags": []
   },
   "outputs": [
    {
     "name": "stdout",
     "output_type": "stream",
     "text": [
      "0.8023097071802082\n"
     ]
    }
   ],
   "source": [
    "y_pred = rf.predict(X_test)\n",
    "print(roc_auc_score(y_test, y_pred))"
   ]
  },
  {
   "cell_type": "code",
   "execution_count": 19,
   "id": "e716684c",
   "metadata": {
    "execution": {
     "iopub.execute_input": "2022-03-04T17:24:33.593104Z",
     "iopub.status.busy": "2022-03-04T17:24:33.592125Z",
     "iopub.status.idle": "2022-03-04T17:24:33.650227Z",
     "shell.execute_reply": "2022-03-04T17:24:33.649227Z"
    },
    "papermill": {
     "duration": 0.078029,
     "end_time": "2022-03-04T17:24:33.650227",
     "exception": false,
     "start_time": "2022-03-04T17:24:33.572198",
     "status": "completed"
    },
    "tags": []
   },
   "outputs": [],
   "source": [
    "# loading xg boost model and testing \n",
    "with open('model_pkl1' , 'rb') as f:\n",
    "    xg = pickle.load(f)"
   ]
  },
  {
   "cell_type": "code",
   "execution_count": 20,
   "id": "27de7f59",
   "metadata": {
    "execution": {
     "iopub.execute_input": "2022-03-04T17:24:33.688158Z",
     "iopub.status.busy": "2022-03-04T17:24:33.688158Z",
     "iopub.status.idle": "2022-03-04T17:24:33.837726Z",
     "shell.execute_reply": "2022-03-04T17:24:33.836729Z"
    },
    "papermill": {
     "duration": 0.173535,
     "end_time": "2022-03-04T17:24:33.837726",
     "exception": false,
     "start_time": "2022-03-04T17:24:33.664191",
     "status": "completed"
    },
    "tags": []
   },
   "outputs": [
    {
     "name": "stdout",
     "output_type": "stream",
     "text": [
      "0.7942848557709622\n"
     ]
    }
   ],
   "source": [
    "y_pred = xg.predict(X_test)\n",
    "print(roc_auc_score(y_test, y_pred))"
   ]
  },
  {
   "cell_type": "code",
   "execution_count": null,
   "id": "4037661f",
   "metadata": {
    "papermill": {
     "duration": 0.018951,
     "end_time": "2022-03-04T17:24:33.907541",
     "exception": false,
     "start_time": "2022-03-04T17:24:33.888590",
     "status": "completed"
    },
    "tags": []
   },
   "outputs": [],
   "source": []
  }
 ],
 "metadata": {
  "celltoolbar": "Tags",
  "kernelspec": {
   "display_name": "Python 3 (ipykernel)",
   "language": "python",
   "name": "python3"
  },
  "language_info": {
   "codemirror_mode": {
    "name": "ipython",
    "version": 3
   },
   "file_extension": ".py",
   "mimetype": "text/x-python",
   "name": "python",
   "nbconvert_exporter": "python",
   "pygments_lexer": "ipython3",
   "version": "3.7.3"
  },
  "papermill": {
   "default_parameters": {},
   "duration": 562.878735,
   "end_time": "2022-03-04T17:24:35.552346",
   "environment_variables": {},
   "exception": null,
   "input_path": "C:\\Users\\RUPESH\\Desktop\\Datascience_new\\My_code\\Fraud_Model\\Fraud_model_Mlflow_sampling.ipynb",
   "output_path": "C:\\Users\\RUPESH\\Desktop\\Datascience_new\\My_code\\Fraud_Model\\output.ipynb",
   "parameters": {
    "n_estimators": 200,
    "n_estimators1": 150
   },
   "start_time": "2022-03-04T17:15:12.673611",
   "version": "2.3.4"
  }
 },
 "nbformat": 4,
 "nbformat_minor": 5
}